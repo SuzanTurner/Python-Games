{
 "cells": [
  {
   "cell_type": "code",
   "execution_count": 21,
   "id": "a4c51a95-6392-4080-bac5-a6944d931c0c",
   "metadata": {},
   "outputs": [],
   "source": [
    "import pygame"
   ]
  },
  {
   "cell_type": "code",
   "execution_count": 22,
   "id": "9a3480ae-5d1d-4f86-a3c8-b55f7619c1a3",
   "metadata": {},
   "outputs": [],
   "source": [
    "h = 800\n",
    "w = 600\n",
    "screen = pygame.display.set_mode((h,w))"
   ]
  },
  {
   "cell_type": "code",
   "execution_count": 23,
   "id": "f61fb3f1-822e-485b-989b-c179e063cabd",
   "metadata": {},
   "outputs": [],
   "source": [
    "player = pygame.Rect((300,250, 50, 50))"
   ]
  },
  {
   "cell_type": "code",
   "execution_count": null,
   "id": "644f7a40-1aee-4efb-8b64-d4c7ea7c2eb1",
   "metadata": {},
   "outputs": [],
   "source": [
    "run = True\n",
    "while run:\n",
    "    screen.fill((0,0,0))\n",
    "    pygame.draw.rect(screen, (255, 0 ,0), player)\n",
    "    key = pygame.key.get_pressed()\n",
    "    if key[pygame.K_a] == True:\n",
    "        player.move_ip(-1,0)\n",
    "    elif key[pygame.K_d] == True:\n",
    "        player.move_ip(1,0)\n",
    "    elif key[pygame.K_w] == True:\n",
    "        player.move_ip(0,-1)\n",
    "    elif key[pygame.K_s] == True:\n",
    "        player.move_ip(0,1)\n",
    "    \n",
    "    for event in pygame.event.get():\n",
    "        if event.type == pygame.QUIT:\n",
    "            run = False\n",
    "    pygame.display.update()\n",
    "\n",
    "pygame.quit()"
   ]
  },
  {
   "cell_type": "code",
   "execution_count": null,
   "id": "7c5b13d8-995b-4a6f-a6a8-79557e5cb65e",
   "metadata": {},
   "outputs": [],
   "source": []
  }
 ],
 "metadata": {
  "kernelspec": {
   "display_name": "Python 3 (ipykernel)",
   "language": "python",
   "name": "python3"
  },
  "language_info": {
   "codemirror_mode": {
    "name": "ipython",
    "version": 3
   },
   "file_extension": ".py",
   "mimetype": "text/x-python",
   "name": "python",
   "nbconvert_exporter": "python",
   "pygments_lexer": "ipython3",
   "version": "3.11.9"
  }
 },
 "nbformat": 4,
 "nbformat_minor": 5
}
