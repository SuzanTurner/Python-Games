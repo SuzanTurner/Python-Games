{
 "cells": [
  {
   "cell_type": "code",
   "execution_count": 1,
   "id": "45680df1-59bf-40ab-a14d-7f74459df2b2",
   "metadata": {},
   "outputs": [
    {
     "name": "stdout",
     "output_type": "stream",
     "text": [
      "pygame 2.6.0 (SDL 2.28.4, Python 3.11.9)\n",
      "Hello from the pygame community. https://www.pygame.org/contribute.html\n"
     ]
    }
   ],
   "source": [
    "import pygame"
   ]
  },
  {
   "cell_type": "code",
   "execution_count": 2,
   "id": "e7973410-e187-4b5b-a554-2e7d17b6fefb",
   "metadata": {},
   "outputs": [],
   "source": [
    "import math\n",
    "import random\n",
    "import time"
   ]
  },
  {
   "cell_type": "code",
   "execution_count": 3,
   "id": "e4631a61-59ea-498c-ad90-47679ad9325b",
   "metadata": {},
   "outputs": [
    {
     "data": {
      "text/plain": [
       "(5, 0)"
      ]
     },
     "execution_count": 3,
     "metadata": {},
     "output_type": "execute_result"
    }
   ],
   "source": [
    "pygame.init()"
   ]
  },
  {
   "cell_type": "code",
   "execution_count": 4,
   "id": "a002e606-5f26-4e6a-b9a2-191cc1540cf1",
   "metadata": {},
   "outputs": [],
   "source": [
    "width,height = 800,600\n",
    "top_bar_height = 50\n",
    "\n",
    "label_font = pygame.font.SysFont(\"comicsans\", 24)"
   ]
  },
  {
   "cell_type": "code",
   "execution_count": 5,
   "id": "4b8e887b-40c7-4984-8301-a2813302df0e",
   "metadata": {},
   "outputs": [],
   "source": [
    "win = pygame.display.set_mode((width,height))\n",
    "pygame.display.set_caption(\"Aim Trainer\")"
   ]
  },
  {
   "cell_type": "code",
   "execution_count": 6,
   "id": "4805b232-aaf1-4a4a-8052-289375c2e0bf",
   "metadata": {},
   "outputs": [],
   "source": [
    "inc = 400\n",
    "ev = pygame.USEREVENT\n",
    "padding = 30\n",
    "\n",
    "bg_color = (0, 25, 40)\n",
    "\n",
    "lives = 10"
   ]
  },
  {
   "cell_type": "code",
   "execution_count": 7,
   "id": "95575e8b-88d2-4330-a299-68f4f2cf3c0f",
   "metadata": {},
   "outputs": [],
   "source": [
    "class Target:\n",
    "    max = 20\n",
    "    rate = 0.1\n",
    "    color = \"pink\"\n",
    "    color2 = \"red\"\n",
    "    color3 = \"orange\"\n",
    "    color4 = \"yellow\"\n",
    "    def __init__ (self,x,y):\n",
    "        self.x = x\n",
    "        self.y = y\n",
    "        self.size = 0\n",
    "        self.grow = True\n",
    "\n",
    "    def update(self):\n",
    "        if self.size + self.rate >= self.max:\n",
    "            self.grow = False\n",
    "        if self.grow:\n",
    "            self.size += self.rate\n",
    "        else:\n",
    "            self.size -= self.rate\n",
    "\n",
    "    def draw(self,win):\n",
    "        pygame.draw.circle(win, self.color, (self.x,self.y), self.size)\n",
    "        pygame.draw.circle(win, self.color2, (self.x,self.y), self.size * 0.9)\n",
    "        pygame.draw.circle(win, self.color3, (self.x,self.y), self.size * 0.8)\n",
    "        pygame.draw.circle(win, self.color4, (self.x,self.y), self.size * 0.7)\n",
    "\n",
    "    def collide(self, x , y):\n",
    "        dis = math.sqrt((x - self.x)**2 + (y - self.y)**2)\n",
    "        return dis <= self.size\n",
    "\n"
   ]
  },
  {
   "cell_type": "code",
   "execution_count": 8,
   "id": "cec62efe-6eb0-4db0-a943-082a348164e9",
   "metadata": {},
   "outputs": [],
   "source": [
    "def draw(win, targets):\n",
    "    win.fill(bg_color)\n",
    "    for target in targets:\n",
    "        target.draw(win)\n",
    "    "
   ]
  },
  {
   "cell_type": "code",
   "execution_count": 9,
   "id": "57c43622-9800-4df8-911a-d328ea7eac27",
   "metadata": {},
   "outputs": [],
   "source": [
    "def format_time(secs):\n",
    "    mil = math.floor(int(secs * 1000 % 1000)/100)\n",
    "    seconds = int(round(secs % 60, 1))\n",
    "    minutes = int(secs//60)\n",
    "\n",
    "    return f\"{minutes:02d}:{seconds:02d}.{mil}\"\n",
    "    "
   ]
  },
  {
   "cell_type": "code",
   "execution_count": 10,
   "id": "22a0f18d-c488-4b87-afc1-69700b6d58f1",
   "metadata": {},
   "outputs": [],
   "source": [
    "def top_bar(win, el_time, pressed, miss):\n",
    "    pygame.draw.rect(win,\"grey\",(0, 0, width, top_bar_height))\n",
    "    time_label = label_font.render(f\"Time: {format_time(el_time)}\", 1, \"black\")\n",
    "\n",
    "    speed = round(pressed/el_time, 1)\n",
    "    speed_label = label_font.render(f\"Speed:{speed} t/s\", 1, \"black\")\n",
    "    hits_label = label_font.render(f\"Hits:{pressed}\", 1, \"black\")\n",
    "    lives_label = label_font.render(f\"Lives:{lives - miss}\", 1, \"black\")\n",
    "\n",
    "    win.blit(time_label, (5,5))\n",
    "    win.blit(speed_label, (200,5))\n",
    "    win.blit(hits_label, (450,5))\n",
    "    win.blit(lives_label, (650,5))\n",
    "    "
   ]
  },
  {
   "cell_type": "code",
   "execution_count": 11,
   "id": "a94e5054-8684-423f-9357-e04d4d58d7a1",
   "metadata": {},
   "outputs": [],
   "source": [
    "def end_screen(win,el_time,pressed, clicks):\n",
    "    win.fill(bg_color)\n",
    "    time_label = label_font.render(f\"Time: {format_time(el_time)}\", 1, \"white\")\n",
    "    speed = round(pressed/el_time, 1)\n",
    "    speed_label = label_font.render(f\"Speed:{speed} t/s\", 1, \"white\")\n",
    "    hits_label = label_font.render(f\"Hits:{pressed}\", 1, \"white\")\n",
    "    acc = round(pressed/clicks * 100, 2)\n",
    "    acc_label = label_font.render(f\"Accuracy:{acc}%\", 1, \"white\")\n",
    "\n",
    "    win.blit(time_label, (get_middle(time_label),100))\n",
    "    win.blit(speed_label, (get_middle(speed_label),200))\n",
    "    win.blit(hits_label, (get_middle(hits_label),300))\n",
    "    win.blit(acc_label, (get_middle(acc_label),400))\n",
    "\n",
    "    pygame.display.update()\n",
    "    run = True\n",
    "    while run:\n",
    "        for event in pygame.event.get():\n",
    "            if event.type == pygame.QUIT or event.type == pygame.KEYDOWN:\n",
    "                quit()\n",
    "    "
   ]
  },
  {
   "cell_type": "code",
   "execution_count": 12,
   "id": "2562637a-c062-4d52-9668-ed51de607d58",
   "metadata": {},
   "outputs": [],
   "source": [
    "def get_middle(surface):\n",
    "    return width/2 - surface.get_width()/2"
   ]
  },
  {
   "cell_type": "code",
   "execution_count": null,
   "id": "a3324c4d-689b-4907-83cd-329c39bf1450",
   "metadata": {},
   "outputs": [],
   "source": [
    "def main():\n",
    "    run = True\n",
    "    targets = []\n",
    "    clock = pygame.time.Clock()\n",
    "    pressed = 0\n",
    "    miss = 0\n",
    "    clicks = 0\n",
    "    start_time = time.time()\n",
    "    \n",
    "    pygame.time.set_timer(ev, inc)\n",
    "    while run:\n",
    "        clock.tick(60)\n",
    "        click = False\n",
    "        mouse_pos = pygame.mouse.get_pos()\n",
    "        el_time = time.time() - start_time\n",
    "        for event in pygame.event.get():\n",
    "            if event.type == pygame.QUIT:\n",
    "                run = False\n",
    "                break\n",
    "            if event.type == ev:\n",
    "                x = random.randint(padding, width - padding)\n",
    "                y = random.randint(padding + top_bar_height, height - padding)\n",
    "                target = Target(x,y)\n",
    "                targets.append(target)\n",
    "            if event.type == pygame.MOUSEBUTTONDOWN:\n",
    "                click = True\n",
    "                clicks += 1\n",
    "                \n",
    "        for target in targets:\n",
    "            target.update()\n",
    "            if target.size <= 0:\n",
    "                targets.remove(target)\n",
    "                miss += 1\n",
    "\n",
    "            if click and target.collide(*mouse_pos):\n",
    "                targets.remove(target)\n",
    "                pressed += 1\n",
    "\n",
    "        if miss >= lives:\n",
    "            end_screen(win, el_time, pressed, clicks)\n",
    "                \n",
    "\n",
    "        draw(win, targets)\n",
    "        top_bar(win, el_time, pressed, miss)\n",
    "        pygame.display.update()     \n",
    "                \n",
    "    pygame.quit()\n",
    "\n",
    "if __name__ == \"__main__\":\n",
    "    main()\n"
   ]
  },
  {
   "cell_type": "code",
   "execution_count": null,
   "id": "ba686253-b940-4a35-b326-b6ceb69c2c49",
   "metadata": {},
   "outputs": [],
   "source": []
  },
  {
   "cell_type": "code",
   "execution_count": null,
   "id": "d525f2ec-f626-4e70-bebf-4a675a1c0972",
   "metadata": {},
   "outputs": [],
   "source": []
  }
 ],
 "metadata": {
  "kernelspec": {
   "display_name": "Python 3 (ipykernel)",
   "language": "python",
   "name": "python3"
  },
  "language_info": {
   "codemirror_mode": {
    "name": "ipython",
    "version": 3
   },
   "file_extension": ".py",
   "mimetype": "text/x-python",
   "name": "python",
   "nbconvert_exporter": "python",
   "pygments_lexer": "ipython3",
   "version": "3.11.9"
  }
 },
 "nbformat": 4,
 "nbformat_minor": 5
}
